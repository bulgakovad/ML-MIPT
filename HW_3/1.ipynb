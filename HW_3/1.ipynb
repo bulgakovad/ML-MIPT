{
 "cells": [
  {
   "cell_type": "markdown",
   "metadata": {},
   "source": [
    "Импортируем все библиотеки, которые так или иначе пытались быть использованными."
   ]
  },
  {
   "cell_type": "code",
   "execution_count": 21,
   "metadata": {
    "collapsed": false
   },
   "outputs": [],
   "source": [
    "from sklearn.ensemble import GradientBoostingRegressor, RandomForestRegressor, ExtraTreesRegressor, AdaBoostRegressor, BaggingRegressor\n",
    "from sklearn.linear_model import SGDRegressor, RidgeCV, Lasso, ElasticNetCV, MultiTaskLasso, LassoLarsCV\n",
    "import pandas as pd\n",
    "from sklearn.metrics import r2_score, mean_squared_error, make_scorer\n",
    "from sklearn.cross_validation import train_test_split, cross_val_score\n",
    "import sklearn.preprocessing\n",
    "import xgboost as xgb\n",
    "from sklearn.svm import LinearSVR\n",
    "from statsmodels.tsa.arima_model import ARIMA\n",
    "from sklearn.neighbors import KNeighborsRegressor\n",
    "import numpy as np\n",
    "from sklearn.tree import DecisionTreeRegressor"
   ]
  },
  {
   "cell_type": "markdown",
   "metadata": {},
   "source": [
    "Загружаем данные"
   ]
  },
  {
   "cell_type": "code",
   "execution_count": 2,
   "metadata": {
    "collapsed": true
   },
   "outputs": [],
   "source": [
    "train = pd.read_csv(\"train.tsv\")\n",
    "test = pd.read_csv(\"test.tsv\")\n",
    "sample_submission = pd.read_csv(\"sample_submission.tsv\")"
   ]
  },
  {
   "cell_type": "markdown",
   "metadata": {},
   "source": [
    "Формируем обучающую выборку"
   ]
  },
  {
   "cell_type": "code",
   "execution_count": 3,
   "metadata": {
    "collapsed": false
   },
   "outputs": [],
   "source": [
    "# sample the train set if your don't want to deel with all examples\n",
    "train = train.sample(frac = 0.3, random_state=42)\n",
    "                "
   ]
  },
  {
   "cell_type": "markdown",
   "metadata": {},
   "source": [
    "Экспериментировав с xgboost, я построила гистограмму вклада признаков в качество построенной модели и решила удалить те, которые дают наименьший вклад, посчитав их выбросами. На других моделях их \"выбросовость\" подтвердилась.\n",
    "\n",
    "Также удалим из признаков 'item_id', потому что это категориальный признак.\n",
    "\n",
    "Более того, проверив корреляцию признаков между собой, я установила, что половина признаков дублируется: f1 = f31, f2 = f32,... . Таким образом, удалим признаки с 31 по 60."
   ]
  },
  {
   "cell_type": "code",
   "execution_count": 4,
   "metadata": {
    "collapsed": true
   },
   "outputs": [],
   "source": [
    "labels = ['Num','item_id', 'f2', 'f10', 'f11', 'f14', 'f17', 'f22', 'y']\n",
    "for i in range (31,61):\n",
    "    labels.append('f' + str(i))\n",
    "\n",
    "X = train.drop(labels, axis=1)\n",
    "\n",
    "y = train['y']"
   ]
  },
  {
   "cell_type": "code",
   "execution_count": 5,
   "metadata": {
    "collapsed": false
   },
   "outputs": [],
   "source": [
    "d_corr = train.corr()\n",
    "\n",
    "d_corr.to_csv(\"d_corr.tsv\", sep=',', index=False)"
   ]
  },
  {
   "cell_type": "markdown",
   "metadata": {},
   "source": [
    "Также я эксперементировала со \"скалированием\" выборки, лучшие результаты (если вообще давало), дало робастное \"скалирование\"."
   ]
  },
  {
   "cell_type": "code",
   "execution_count": 55,
   "metadata": {
    "collapsed": false
   },
   "outputs": [],
   "source": [
    "X_scaled = sklearn.preprocessing.robust_scale(X)\n"
   ]
  },
  {
   "cell_type": "markdown",
   "metadata": {},
   "source": [
    "Три лучших используемых модели, лучший результат на kaggle - RandomForest на 100 деревьях. Было немного обидно."
   ]
  },
  {
   "cell_type": "code",
   "execution_count": 6,
   "metadata": {
    "collapsed": false
   },
   "outputs": [
    {
     "name": "stdout",
     "output_type": "stream",
     "text": [
      "Wall time: 37.9 s\n"
     ]
    }
   ],
   "source": [
    "%%time\n",
    "\n",
    "#model = RandomForestRegressor(n_estimators=100, oob_score=True)\n",
    "#model = xgb.XGBRegressor(max_depth=12, learning_rate=0.0008, n_estimators=8000, seed = 1337, nthread = 4)\n",
    "model = BaggingRegressor(DecisionTreeRegressor(max_features=None, min_samples_split = 3), n_estimators = 20, n_jobs = -1)\n",
    "model.fit(X, y)\n",
    "\n"
   ]
  },
  {
   "cell_type": "code",
   "execution_count": 7,
   "metadata": {
    "collapsed": true
   },
   "outputs": [],
   "source": [
    "labels = ['Num', 'item_id']\n",
    "for i in range (31,61):\n",
    "    labels.append('f' + str(i))\n",
    "test = test.drop(labels, axis=1)"
   ]
  },
  {
   "cell_type": "code",
   "execution_count": 8,
   "metadata": {
    "collapsed": true
   },
   "outputs": [],
   "source": [
    "preds = model.predict(test)"
   ]
  },
  {
   "cell_type": "code",
   "execution_count": 12,
   "metadata": {
    "collapsed": false
   },
   "outputs": [
    {
     "data": {
      "text/html": [
       "<div>\n",
       "<table border=\"1\" class=\"dataframe\">\n",
       "  <thead>\n",
       "    <tr style=\"text-align: right;\">\n",
       "      <th></th>\n",
       "      <th>Num</th>\n",
       "      <th>y</th>\n",
       "    </tr>\n",
       "  </thead>\n",
       "  <tbody>\n",
       "    <tr>\n",
       "      <th>0</th>\n",
       "      <td>348622</td>\n",
       "      <td>1677.975000</td>\n",
       "    </tr>\n",
       "    <tr>\n",
       "      <th>1</th>\n",
       "      <td>348623</td>\n",
       "      <td>19975.338333</td>\n",
       "    </tr>\n",
       "    <tr>\n",
       "      <th>2</th>\n",
       "      <td>348624</td>\n",
       "      <td>289855.286667</td>\n",
       "    </tr>\n",
       "    <tr>\n",
       "      <th>3</th>\n",
       "      <td>348625</td>\n",
       "      <td>23141.416667</td>\n",
       "    </tr>\n",
       "    <tr>\n",
       "      <th>4</th>\n",
       "      <td>348626</td>\n",
       "      <td>96.504167</td>\n",
       "    </tr>\n",
       "  </tbody>\n",
       "</table>\n",
       "</div>"
      ],
      "text/plain": [
       "      Num              y\n",
       "0  348622    1677.975000\n",
       "1  348623   19975.338333\n",
       "2  348624  289855.286667\n",
       "3  348625   23141.416667\n",
       "4  348626      96.504167"
      ]
     },
     "execution_count": 12,
     "metadata": {},
     "output_type": "execute_result"
    }
   ],
   "source": [
    "sample_submission['y'] = preds\n",
    "sample_submission.head(5)"
   ]
  },
  {
   "cell_type": "code",
   "execution_count": 13,
   "metadata": {
    "collapsed": true
   },
   "outputs": [],
   "source": [
    "sample_submission['y'] = sample_submission['y'].map(lambda x: x if x > 0 else 0.0)"
   ]
  },
  {
   "cell_type": "code",
   "execution_count": 14,
   "metadata": {
    "collapsed": true
   },
   "outputs": [],
   "source": [
    "sample_submission.to_csv(\"bag_dtr.tsv\", sep=',', index=False)"
   ]
  },
  {
   "cell_type": "markdown",
   "metadata": {},
   "source": [
    "Таким образом получался ответ для kaggle."
   ]
  },
  {
   "cell_type": "code",
   "execution_count": null,
   "metadata": {
    "collapsed": true
   },
   "outputs": [],
   "source": []
  },
  {
   "cell_type": "markdown",
   "metadata": {},
   "source": [
    "Проверка моделей производилась на следующем участке кода."
   ]
  },
  {
   "cell_type": "markdown",
   "metadata": {},
   "source": [
    "Так как в sklearn нет реализации SMAPE, то реализуем ее самостоятельно."
   ]
  },
  {
   "cell_type": "code",
   "execution_count": 15,
   "metadata": {
    "collapsed": true
   },
   "outputs": [],
   "source": [
    "def SMAPE(y_a, y_f):\n",
    "    score = (1.0 / len(y_a)) * sum(abs(y_f - y_a) / ((abs(y_f) + abs(y_a)) / 2.0))\n",
    "    return score"
   ]
  },
  {
   "cell_type": "markdown",
   "metadata": {
    "collapsed": true
   },
   "source": [
    "Теперь запустим кросс-валидацию с нашим scorer'ом."
   ]
  },
  {
   "cell_type": "code",
   "execution_count": 17,
   "metadata": {
    "collapsed": true
   },
   "outputs": [],
   "source": [
    "def cross_val (model, X, y, score_func):\n",
    "    return cross_val_score(model, X, y, scoring = make_scorer(score_func))"
   ]
  },
  {
   "cell_type": "markdown",
   "metadata": {},
   "source": [
    "То, что было перепробовано, можно увидеть в import'ах. Также экспериментировала с композицей, но кода не сохранилось, потому что особых результатов не добилась.\n",
    "\n",
    "Лучше всех себя показали RandomForest, бэггинг над деревом решений и XGB. Параметры подбирались методом проб и ошибок, до автоматизации руки не дошли."
   ]
  },
  {
   "cell_type": "code",
   "execution_count": null,
   "metadata": {
    "collapsed": true
   },
   "outputs": [],
   "source": [
    "%%time\n",
    "\n",
    "TestModels = pd.DataFrame()\n",
    "tmp = {}\n",
    "\n",
    "model = RandomForestRegressor(n_estimators=100, max_features=None, random_state=42) \n",
    "m = str(model)\n",
    "tmp['Model'] = m[:m.index('(')]\n",
    "cv = cross_val(model, X, y, SMAPE)\n",
    "tmp['SMAPE'] = cv\n",
    "TestModels = TestModels.append([tmp])\n",
    "\n",
    "model = BaggingRegressor(DecisionTreeRegressor(max_features=None, min_samples_split = 3), n_estimators = 20, n_jobs = -1)\n",
    "m = str(model)\n",
    "tmp['Model'] = m[:m.index('(')]\n",
    "cv = cross_val(model, X, y, SMAPE)\n",
    "tmp['SMAPE'] = cv\n",
    "TestModels = TestModels.append([tmp])\n",
    "\n",
    "model = xgb.XGBRegressor(max_depth=12, learning_rate=0.0008, n_estimators=8000, seed = 1337, nthread = 4)\n",
    "m = str(model)\n",
    "tmp['Model'] = m[:m.index('(')]\n",
    "cv = cross_val(model, X, y, SMAPE)\n",
    "tmp['SMAPE'] = cv\n",
    "TestModels = TestModels.append([tmp])\n",
    "\n",
    "TestModels.set_index('Model', inplace=True)"
   ]
  },
  {
   "cell_type": "code",
   "execution_count": 8,
   "metadata": {
    "collapsed": false
   },
   "outputs": [
    {
     "name": "stdout",
     "output_type": "stream",
     "text": [
      "Populating the interactive namespace from numpy and matplotlib\n"
     ]
    },
    {
     "name": "stderr",
     "output_type": "stream",
     "text": [
      "WARNING: pylab import has clobbered these variables: ['test', 'f']\n",
      "`%matplotlib` prevents importing * from pylab and numpy\n"
     ]
    }
   ],
   "source": [
    "%pylab inline"
   ]
  },
  {
   "cell_type": "code",
   "execution_count": 113,
   "metadata": {
    "collapsed": false
   },
   "outputs": [
    {
     "data": {
      "text/html": [
       "<div>\n",
       "<table border=\"1\" class=\"dataframe\">\n",
       "  <thead>\n",
       "    <tr style=\"text-align: right;\">\n",
       "      <th></th>\n",
       "      <th>SMAPE</th>\n",
       "    </tr>\n",
       "    <tr>\n",
       "      <th>Model</th>\n",
       "      <th></th>\n",
       "    </tr>\n",
       "  </thead>\n",
       "  <tbody>\n",
       "    <tr>\n",
       "      <th>RandomForestRegressor1</th>\n",
       "      <td>0.263334</td>\n",
       "    </tr>\n",
       "    <tr>\n",
       "      <th>BaggingRegressor3</th>\n",
       "      <td>0.265602</td>\n",
       "    </tr>\n",
       "    <tr>\n",
       "      <th>BaggingRegressor3</th>\n",
       "      <td>0.266754</td>\n",
       "    </tr>\n",
       "    <tr>\n",
       "      <th>BaggingRegressor2</th>\n",
       "      <td>0.293604</td>\n",
       "    </tr>\n",
       "  </tbody>\n",
       "</table>\n",
       "</div>"
      ],
      "text/plain": [
       "                           SMAPE\n",
       "Model                           \n",
       "RandomForestRegressor1  0.263334\n",
       "BaggingRegressor3       0.265602\n",
       "BaggingRegressor3       0.266754\n",
       "BaggingRegressor2       0.293604"
      ]
     },
     "execution_count": 113,
     "metadata": {},
     "output_type": "execute_result"
    }
   ],
   "source": [
    "TestModels"
   ]
  },
  {
   "cell_type": "code",
   "execution_count": null,
   "metadata": {
    "collapsed": true
   },
   "outputs": [],
   "source": []
  },
  {
   "cell_type": "markdown",
   "metadata": {},
   "source": [
    "Остаток экспериментов с xgboost:"
   ]
  },
  {
   "cell_type": "code",
   "execution_count": 57,
   "metadata": {
    "collapsed": true
   },
   "outputs": [],
   "source": [
    "bst = model.booster()\n",
    "imps = bst.get_fscore()"
   ]
  }
 ],
 "metadata": {
  "kernelspec": {
   "display_name": "Python 2",
   "language": "python",
   "name": "python2"
  },
  "language_info": {
   "codemirror_mode": {
    "name": "ipython",
    "version": 2
   },
   "file_extension": ".py",
   "mimetype": "text/x-python",
   "name": "python",
   "nbconvert_exporter": "python",
   "pygments_lexer": "ipython2",
   "version": "2.7.13"
  }
 },
 "nbformat": 4,
 "nbformat_minor": 0
}
